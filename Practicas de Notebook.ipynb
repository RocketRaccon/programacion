{
 "cells": [
  {
   "cell_type": "markdown",
   "metadata": {},
   "source": [
    "# Practica de Jupyter Notebook\n",
    "\n",
    "## Por Esteban.\n",
    "\n",
    "## Recordando MarkDown(hace 2 meses 1/2)\n",
    "![](http://raulperez.tieneblog.net/wp-content/uploads/2015/09/tux.png)"
   ]
  },
  {
   "cell_type": "code",
   "execution_count": 4,
   "metadata": {},
   "outputs": [
    {
     "name": "stdout",
     "output_type": "stream",
     "text": [
      "La suma de este ejemplo es  14\n"
     ]
    }
   ],
   "source": [
    "# codigo en python\n",
    "# Reecordar que es el CODE (celda)\n",
    "x=5+9\n",
    "print(\"La suma de este ejemplo es \", x)\n"
   ]
  },
  {
   "cell_type": "code",
   "execution_count": 6,
   "metadata": {},
   "outputs": [
    {
     "name": "stdout",
     "output_type": "stream",
     "text": [
      "Temperatura en grados Celsius: 120\n",
      "248.0 grados Celsius son 120 grados Fahrenheit\n"
     ]
    }
   ],
   "source": [
    "# codigo en python\n",
    "# Reecordar que es el CODE (celda)\n",
    "celsius = int(input('Temperatura en grados Celsius: '))\n",
    "fahrenheit = 9.0/5.0 * celsius +32\n",
    "print('{} grados Celsius son {} grados Fahrenheit'.format(fahrenheit, celsius))"
   ]
  }
 ],
 "metadata": {
  "kernelspec": {
   "display_name": "Python 3",
   "language": "python",
   "name": "python3"
  },
  "language_info": {
   "codemirror_mode": {
    "name": "ipython",
    "version": 3
   },
   "file_extension": ".py",
   "mimetype": "text/x-python",
   "name": "python",
   "nbconvert_exporter": "python",
   "pygments_lexer": "ipython3",
   "version": "3.6.7"
  }
 },
 "nbformat": 4,
 "nbformat_minor": 2
}
