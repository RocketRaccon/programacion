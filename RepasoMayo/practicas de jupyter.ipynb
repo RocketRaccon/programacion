{
 "cells": [
  {
   "cell_type": "markdown",
   "metadata": {},
   "source": [
    "# Practicas de Jupyter Notebook\n",
    "\n",
    "## por Blanca Duarte Vazquez\n",
    "\n",
    "# Recordando Mark Down\n",
    "\n",
    "![](https://www.florespedia.com/Imagenes/flores-hermosas-dalias.jpg)"
   ]
  },
  {
   "cell_type": "code",
   "execution_count": null,
   "metadata": {},
   "outputs": [],
   "source": [
    "## convertir temperaturas celsius a fahrenheit.\n",
    "\n",
    "fahrenheit = int(input('Ingrese una temperatura en grados Fahrenheit: '))\n",
    "celsius = (fahrenheit - 32) * 5.0/9.0\n",
    "# Hacemos uso de la funcion str.format() para darle formato a nuestra respuesta\n",
    "print('{} grados Fahrenheit son {} grados Celsius '.format(fahrenheit, celsius))"
   ]
  },
  {
   "cell_type": "code",
   "execution_count": 10,
   "metadata": {},
   "outputs": [
    {
     "name": "stdout",
     "output_type": "stream",
     "text": [
      "/bin/sh: 1: Syntax error: word unexpected (expecting \")\")\r\n"
     ]
    }
   ],
   "source": [
    "![](https://www.florespedia.com/Imagenes/flores-hermosas-dalias.jpg)"
   ]
  },
  {
   "cell_type": "code",
   "execution_count": 3,
   "metadata": {},
   "outputs": [
    {
     "name": "stdout",
     "output_type": "stream",
     "text": [
      "cuanto vale x: 1\n"
     ]
    }
   ],
   "source": [
    "# codigo de Python\n",
    "# recordar que es el CODE (celda)\n",
    "x=1\n",
    "print(\"cuanto vale x:\", x)"
   ]
  }
 ],
 "metadata": {
  "kernelspec": {
   "display_name": "Python 3",
   "language": "python",
   "name": "python3"
  },
  "language_info": {
   "codemirror_mode": {
    "name": "ipython",
    "version": 3
   },
   "file_extension": ".py",
   "mimetype": "text/x-python",
   "name": "python",
   "nbconvert_exporter": "python",
   "pygments_lexer": "ipython3",
   "version": "3.6.7"
  }
 },
 "nbformat": 4,
 "nbformat_minor": 2
}
