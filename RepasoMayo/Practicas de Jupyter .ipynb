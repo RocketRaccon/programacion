{
 "cells": [
  {
   "cell_type": "markdown",
   "metadata": {},
   "source": [
    "# Practica de Jupiter Notebook\n",
    "## Por Michelle Carmona\n",
    "# Recordando Markdown (Hace 2 meses) \n",
    "![](https://upload.wikimedia.org/wikipedia/commons/c/c9/Moon.jpg)"
   ]
  },
  {
   "cell_type": "code",
   "execution_count": 34,
   "metadata": {},
   "outputs": [
    {
     "name": "stdout",
     "output_type": "stream",
     "text": [
      "El primer numero es: 1\n",
      "El segundo numero es 2\n",
      "La suma de los numeros es: 3\n"
     ]
    }
   ],
   "source": [
    "# Practica Jypiter \n",
    "\n",
    "x=1\n",
    "y=2 \n",
    "\n",
    "print(\"El primer numero es:\", x)\n",
    "print(\"El segundo numero es\", y)\n",
    "\n",
    "z=x+y \n",
    "\n",
    "print(\"La suma de los numeros es:\", z)"
   ]
  },
  {
   "cell_type": "code",
   "execution_count": 35,
   "metadata": {},
   "outputs": [
    {
     "name": "stdout",
     "output_type": "stream",
     "text": [
      "Los grados celsius son: 100\n",
      "los grados fahrenheit son: 212.0\n"
     ]
    }
   ],
   "source": [
    "x=100 \n",
    "print(\"Los grados celsius son:\", x)\n",
    "z=(x*(9/5))+32\n",
    "print(\"los grados fahrenheit son:\", z)"
   ]
  }
 ],
 "metadata": {
  "kernelspec": {
   "display_name": "Python 3",
   "language": "python",
   "name": "python3"
  },
  "language_info": {
   "codemirror_mode": {
    "name": "ipython",
    "version": 3
   },
   "file_extension": ".py",
   "mimetype": "text/x-python",
   "name": "python",
   "nbconvert_exporter": "python",
   "pygments_lexer": "ipython3",
   "version": "3.6.7"
  }
 },
 "nbformat": 4,
 "nbformat_minor": 2
}
