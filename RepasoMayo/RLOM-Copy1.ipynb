{
 "cells": [
  {
   "cell_type": "markdown",
   "metadata": {},
   "source": [
    "# Practicas de Jupyter Notebok \n",
    "# Por Rene solis\n",
    "# Recordando MarkDown (hace2 meses)\n",
    "\n",
    "\n",
    "![](https://clickmica.fundaciondescubre.es/files/2016/12/quimica-768x511.jpg)"
   ]
  },
  {
   "cell_type": "code",
   "execution_count": 1,
   "metadata": {},
   "outputs": [
    {
     "name": "stdout",
     "output_type": "stream",
     "text": [
      "cuanto vale x: 1\n"
     ]
    }
   ],
   "source": [
    "# codigo en python \n",
    "# recordar que es el CODE (celda)\n",
    "x=1\n",
    "print(\"cuanto vale x:\",x)"
   ]
  },
  {
   "cell_type": "code",
   "execution_count": 5,
   "metadata": {},
   "outputs": [
    {
     "name": "stdout",
     "output_type": "stream",
     "text": [
      "los grados Celsius son: 90\n",
      "los grados Fahrenheit son: 194.0\n"
     ]
    }
   ],
   "source": [
    "# convertir 90 grados a Fahrenheit\n",
    "\n",
    "x=90\n",
    "print(\"los grados Celsius son:\", x)\n",
    "\n",
    "z=(x*(9/5))+32\n",
    "\n",
    "print(\"los grados Fahrenheit son:\",z)"
   ]
  }
 ],
 "metadata": {
  "kernelspec": {
   "display_name": "Python 3",
   "language": "python",
   "name": "python3"
  },
  "language_info": {
   "codemirror_mode": {
    "name": "ipython",
    "version": 3
   },
   "file_extension": ".py",
   "mimetype": "text/x-python",
   "name": "python",
   "nbconvert_exporter": "python",
   "pygments_lexer": "ipython3",
   "version": "3.6.7"
  }
 },
 "nbformat": 4,
 "nbformat_minor": 2
}
