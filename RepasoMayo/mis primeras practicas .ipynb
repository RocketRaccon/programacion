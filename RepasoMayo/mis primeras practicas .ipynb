{
 "cells": [
  {
   "cell_type": "markdown",
   "metadata": {},
   "source": [
    "# practicas de jupyter notebook\n",
    "## por RIcardo Williamson\n",
    "## Recordando markdown\n",
    "\n",
    "\n",
    "\n"
   ]
  },
  {
   "cell_type": "code",
   "execution_count": 18,
   "metadata": {},
   "outputs": [
    {
     "name": "stdout",
     "output_type": "stream",
     "text": [
      "/bin/sh: 1: Syntax error: word unexpected (expecting \")\")\r\n"
     ]
    }
   ],
   "source": []
  },
  {
   "cell_type": "code",
   "execution_count": null,
   "metadata": {},
   "outputs": [],
   "source": []
  },
  {
   "cell_type": "code",
   "execution_count": null,
   "metadata": {},
   "outputs": [],
   "source": []
  },
  {
   "cell_type": "code",
   "execution_count": 11,
   "metadata": {},
   "outputs": [
    {
     "name": "stdout",
     "output_type": "stream",
     "text": [
      "El primer nunmero es: 1\n",
      "El segundo numero es: 2\n",
      "El producto de los numeros es: 2\n"
     ]
    }
   ],
   "source": [
    "# practica de jupyter\n",
    "a=1\n",
    "b=2\n",
    "\n",
    "print(\"El primer nunmero es:\", a)\n",
    "print(\"El segundo numero es:\", b)\n",
    "\n",
    "c=a*b\n",
    "\n",
    "print(\"El producto de los numeros es:\", c)"
   ]
  },
  {
   "cell_type": "code",
   "execution_count": 14,
   "metadata": {},
   "outputs": [
    {
     "name": "stdout",
     "output_type": "stream",
     "text": [
      "Ingrese la temperatura en grados Celsius: 560\n",
      "1040.0 grados Celsius son 560 grados Fahrenheit\n"
     ]
    }
   ],
   "source": [
    "(\"convertir temperaturas celsius a fahrenheit\")\n",
    "\n",
    "celsius = int(input('Ingrese la temperatura en grados Celsius: '))\n",
    "fahrenheit = 9.0/5.0 * celsius +32\n",
    "print('{} grados Celsius son {} grados Fahrenheit'.format(fahrenheit, celsius))"
   ]
  },
  {
   "cell_type": "code",
   "execution_count": null,
   "metadata": {},
   "outputs": [],
   "source": []
  },
  {
   "cell_type": "code",
   "execution_count": null,
   "metadata": {},
   "outputs": [],
   "source": []
  }
 ],
 "metadata": {
  "kernelspec": {
   "display_name": "Python 3",
   "language": "python",
   "name": "python3"
  },
  "language_info": {
   "codemirror_mode": {
    "name": "ipython",
    "version": 3
   },
   "file_extension": ".py",
   "mimetype": "text/x-python",
   "name": "python",
   "nbconvert_exporter": "python",
   "pygments_lexer": "ipython3",
   "version": "3.6.7"
  }
 },
 "nbformat": 4,
 "nbformat_minor": 2
}
