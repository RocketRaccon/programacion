{
 "cells": [
  {
   "cell_type": "markdown",
   "metadata": {},
   "source": [
    "# Practicas de Jupyter \n",
    "\n",
    "\n",
    "## Por Jesus Ruben Ruiz\n",
    "\n",
    "![](https://upload.wikimedia.org/wikipedia/commons/3/30/Amazona_aestiva_-upper_body-8a_%281%29.jpg)"
   ]
  },
  {
   "cell_type": "code",
   "execution_count": 2,
   "metadata": {},
   "outputs": [
    {
     "name": "stdout",
     "output_type": "stream",
     "text": [
      "Ingrese una temperatura en grados Fahrenheit: 110\n",
      "110 grados Fahrenheit son 43.333333333333336 grados Celsius \n",
      "Ingrese la temperatura en grados Celsius: 110\n",
      "230.0 grados Celsius son 110 grados Fahrenheit\n"
     ]
    }
   ],
   "source": [
    "# declaracion de variables\n",
    "kelvin=110\n",
    "fahrenheit = int(input('Ingrese una temperatura en grados Fahrenheit: '))\n",
    "celsius = (fahrenheit - 32) * 5.0/9.0\n",
    "# Hacemos uso de la funcion str.format() para darle formato a nuestra respuesta\n",
    "print('{} grados Fahrenheit son {} grados Celsius '.format(fahrenheit, celsius))\n",
    "\n",
    "celsius = int(input('Ingrese la temperatura en grados Celsius: '))\n",
    "fahrenheit = 9.0/5.0 * celsius +32\n",
    "print('{} grados Celsius son {} grados Fahrenheit'.format(fahrenheit, celsius))\n",
    "\n",
    "\n"
   ]
  },
  {
   "cell_type": "code",
   "execution_count": null,
   "metadata": {},
   "outputs": [],
   "source": []
  }
 ],
 "metadata": {
  "kernelspec": {
   "display_name": "Python 3",
   "language": "python",
   "name": "python3"
  },
  "language_info": {
   "codemirror_mode": {
    "name": "ipython",
    "version": 3
   },
   "file_extension": ".py",
   "mimetype": "text/x-python",
   "name": "python",
   "nbconvert_exporter": "python",
   "pygments_lexer": "ipython3",
   "version": "3.6.7"
  }
 },
 "nbformat": 4,
 "nbformat_minor": 2
}
