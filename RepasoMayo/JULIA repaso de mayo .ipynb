{
 "cells": [
  {
   "cell_type": "markdown",
   "metadata": {},
   "source": [
    "# Practicas de jupyter Notebook\n",
    "## por julia carvajal\n",
    "### Recordando MarkDown(hace 2 meses 1/2)\n",
    "![](http://raulperez.tieneblog.net/wp-content/uploads/2015/09/tux.png)\n"
   ]
  },
  {
   "cell_type": "code",
   "execution_count": 3,
   "metadata": {},
   "outputs": [
    {
     "name": "stdout",
     "output_type": "stream",
     "text": [
      "el resultado de r es:  15\n"
     ]
    }
   ],
   "source": [
    "# mi primer ejemplo\n",
    "# recordar lo que es code \n",
    "r=3*5\n",
    "print(\"el resultado de r es: \", r)"
   ]
  },
  {
   "cell_type": "code",
   "execution_count": 5,
   "metadata": {},
   "outputs": [
    {
     "name": "stdout",
     "output_type": "stream",
     "text": [
      "cual es es resultado de x -3377\n"
     ]
    }
   ],
   "source": [
    "# mi segundo ejemplo \n",
    "x=1543-4920\n",
    "print(\"cual es es resultado de x\", x)"
   ]
  },
  {
   "cell_type": "code",
   "execution_count": 6,
   "metadata": {},
   "outputs": [
    {
     "name": "stdout",
     "output_type": "stream",
     "text": [
      "cuanto vale c 39.514925373134325\n"
     ]
    }
   ],
   "source": [
    "# mi tercer ejemplo \n",
    "c=10590/268\n",
    "print(\"cuanto vale c\", c)"
   ]
  },
  {
   "cell_type": "code",
   "execution_count": 10,
   "metadata": {},
   "outputs": [
    {
     "name": "stdout",
     "output_type": "stream",
     "text": [
      "Ingrese la temperatura en grados Celsius: 150\n",
      "302.0 grados Celsius son 150 grados Fahrenheit\n"
     ]
    }
   ],
   "source": [
    "celsius = int(input('Ingrese la temperatura en grados Celsius: '))\n",
    "fahrenheit = 9.0/5.0 * celsius +32\n",
    "print('{} grados Celsius son {} grados Fahrenheit'.format(fahrenheit, celsius))"
   ]
  },
  {
   "cell_type": "code",
   "execution_count": 11,
   "metadata": {},
   "outputs": [
    {
     "name": "stdout",
     "output_type": "stream",
     "text": [
      "Ingrese una temperatura en grados Fahrenheit: 350\n",
      "350 grados Fahrenheit son 176.66666666666666 grados Celsius \n"
     ]
    }
   ],
   "source": [
    "fahrenheit = int(input('Ingrese una temperatura en grados Fahrenheit: '))\n",
    "celsius = (fahrenheit - 32) * 5.0/9.0\n",
    "# Hacemos uso de la funcion str.format() para darle formato a nuestra respuesta\n",
    "print('{} grados Fahrenheit son {} grados Celsius '.format(fahrenheit, celsius))"
   ]
  },
  {
   "cell_type": "code",
   "execution_count": null,
   "metadata": {},
   "outputs": [],
   "source": []
  }
 ],
 "metadata": {
  "kernelspec": {
   "display_name": "Python 3",
   "language": "python",
   "name": "python3"
  },
  "language_info": {
   "codemirror_mode": {
    "name": "ipython",
    "version": 3
   },
   "file_extension": ".py",
   "mimetype": "text/x-python",
   "name": "python",
   "nbconvert_exporter": "python",
   "pygments_lexer": "ipython3",
   "version": "3.6.7"
  }
 },
 "nbformat": 4,
 "nbformat_minor": 2
}
