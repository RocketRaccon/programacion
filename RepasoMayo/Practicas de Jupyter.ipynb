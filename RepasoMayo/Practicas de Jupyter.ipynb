{
 "cells": [
  {
   "cell_type": "markdown",
   "metadata": {},
   "source": [
    "# Practicas de Jupyter Notebook\n",
    "## Por Nairobi Candelaria Gonzalez Villegas\n",
    "# Recordando Markdown\n",
    "\n",
    "![](https://upload.wikimedia.org/wikipedia/commons/f/f2/Peach_flowers.jpg)"
   ]
  },
  {
   "cell_type": "code",
   "execution_count": 18,
   "metadata": {},
   "outputs": [
    {
     "name": "stdout",
     "output_type": "stream",
     "text": [
      "Ingrese la temperatura en grados celsius:100\n",
      "100  grados Celsius son 212.0  grados Fahrenheit\n"
     ]
    }
   ],
   "source": [
    "# Convertir temperaturas Celsius a Fahrenheit.\n",
    "celsius = int(input('Ingrese la temperatura en grados celsius:'))\n",
    "fahrenheit = 9.0/5.0 * celsius +32\n",
    "print(celsius,' grados Celsius son', fahrenheit,' grados Fahrenheit'.format (fahrenheit, celsius))\n"
   ]
  }
 ],
 "metadata": {
  "kernelspec": {
   "display_name": "Python 3",
   "language": "python",
   "name": "python3"
  },
  "language_info": {
   "codemirror_mode": {
    "name": "ipython",
    "version": 3
   },
   "file_extension": ".py",
   "mimetype": "text/x-python",
   "name": "python",
   "nbconvert_exporter": "python",
   "pygments_lexer": "ipython3",
   "version": "3.6.7"
  }
 },
 "nbformat": 4,
 "nbformat_minor": 2
}
